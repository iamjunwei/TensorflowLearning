{
 "cells": [
  {
   "cell_type": "markdown",
   "metadata": {},
   "source": [
    "KNN部分"
   ]
  },
  {
   "cell_type": "markdown",
   "metadata": {
    "collapsed": true
   },
   "source": [
    "样本比较：L1距离和L2距离"
   ]
  },
  {
   "cell_type": "markdown",
   "metadata": {},
   "source": [
    "找到最近的K个样本，预测为样本数最多的类别"
   ]
  },
  {
   "cell_type": "markdown",
   "metadata": {},
   "source": [
    "距离算法和K的选择都是超参，通过多种参数组合，找到最佳的参数"
   ]
  },
  {
   "cell_type": "markdown",
   "metadata": {},
   "source": [
    "寻找最佳超参时，可使用交叉验证法：训练集细分为训练集和验证集，找到验证集上的最佳参数\n",
    "\n",
    "循环划分训练集和验证集，对结果求均值"
   ]
  },
  {
   "cell_type": "markdown",
   "metadata": {},
   "source": [
    "线性模型部分"
   ]
  },
  {
   "cell_type": "markdown",
   "metadata": {},
   "source": [
    "score = Wx + b"
   ]
  },
  {
   "cell_type": "markdown",
   "metadata": {},
   "source": [
    "MultiClass SVM loss function\n",
    "\n",
    "L = mean(sum(max(0, score - score_y + 1)))"
   ]
  },
  {
   "cell_type": "markdown",
   "metadata": {},
   "source": [
    "权重正则化：L1正则化；L2正则化；Elastic net（L1+L2）；Dropout"
   ]
  },
  {
   "cell_type": "markdown",
   "metadata": {},
   "source": [
    "Softmax Classifier\n",
    "\n",
    "P(x) = exp(score) / sum(exp(score))\n",
    "\n",
    "L = -log(P(Y = y))"
   ]
  },
  {
   "cell_type": "markdown",
   "metadata": {},
   "source": [
    "Optimization：Gradient Descent\n",
    "\n",
    "超参：学习率learning rate"
   ]
  },
  {
   "cell_type": "markdown",
   "metadata": {},
   "source": [
    "神经网络部分"
   ]
  },
  {
   "cell_type": "markdown",
   "metadata": {},
   "source": [
    "正向传播；反向传播"
   ]
  },
  {
   "cell_type": "markdown",
   "metadata": {},
   "source": [
    "基本准则之一：越大越好，加上正则化"
   ]
  },
  {
   "cell_type": "markdown",
   "metadata": {},
   "source": [
    "小数据集的训练：迁移学习，使用预训练的模型，重新训练最后几层"
   ]
  },
  {
   "cell_type": "markdown",
   "metadata": {},
   "source": [
    "激活函数：Sigmoid、tanh、Relu、LeakyRelu、Elu、Maxout\n",
    "\n",
    "In practice：使用Relu，并注意设置learning rate，训练时检查dead relu（梯度消失）"
   ]
  },
  {
   "cell_type": "markdown",
   "metadata": {},
   "source": [
    "预处理：mean、std、pca、whitening、mean_image(for image)、mean_channel(for image)"
   ]
  },
  {
   "cell_type": "markdown",
   "metadata": {},
   "source": [
    "初始化：Xavier init\n",
    "\n",
    "np.random.randn(in, out)/np.sqrt(in)    (not relu)\n",
    "\n",
    "np.random.randn(in, out)/np.sqrt(in / 2)    (relu)"
   ]
  },
  {
   "cell_type": "markdown",
   "metadata": {},
   "source": [
    "Batch normalization：wx+b -> bn(normalzation) -> activate function"
   ]
  },
  {
   "cell_type": "markdown",
   "metadata": {},
   "source": [
    "训练步骤：\n",
    "\n",
    "1、预处理\n",
    "\n",
    "2、选择net结构（hidden layer number and hidden unit number）\n",
    "\n",
    "3、完整性检查：使用较少数量样本，检查代码准确性（准确率应该为100%）\n",
    "\n",
    "4、扩大训练集：交叉验证获得合适的超参，random search（usually better） and grid search"
   ]
  },
  {
   "cell_type": "markdown",
   "metadata": {},
   "source": [
    "总结：\n",
    "\n",
    "1、激活函数: relu\n",
    "\n",
    "2、预处理：mean_image\n",
    "\n",
    "3、Xavier init\n",
    "\n",
    "4、使用Batch normalization\n",
    "\n",
    "5、完整性检查流程\n",
    "\n",
    "6、超参优化"
   ]
  },
  {
   "cell_type": "markdown",
   "metadata": {},
   "source": [
    "参数更新\n",
    "\n",
    "方法：gradient descent、Momentum、Nesterov momentum、AdaGrad、RMSProp、Adam\n",
    "\n",
    "learning rate decay over time\n",
    "\n",
    "BFGS、L-BFGS\n",
    "\n",
    "总结：使用Adam"
   ]
  },
  {
   "cell_type": "markdown",
   "metadata": {},
   "source": [
    "Evaluation：\n",
    "\n",
    "1、训练多个模型，求平均。一般有2%的提升\n",
    "\n",
    "2、一个模型，多个checkpoint\n",
    "\n",
    "3、weight decay over time"
   ]
  },
  {
   "cell_type": "markdown",
   "metadata": {},
   "source": [
    "正则化\n",
    "\n",
    "Dropout：训练随机丢弃，测试完全使用（注意过程中需要在结果上考虑随机比例因子）"
   ]
  },
  {
   "cell_type": "code",
   "execution_count": null,
   "metadata": {},
   "outputs": [],
   "source": []
  }
 ],
 "metadata": {
  "kernelspec": {
   "display_name": "Python 2",
   "language": "python",
   "name": "python2"
  },
  "language_info": {
   "codemirror_mode": {
    "name": "ipython",
    "version": 2
   },
   "file_extension": ".py",
   "mimetype": "text/x-python",
   "name": "python",
   "nbconvert_exporter": "python",
   "pygments_lexer": "ipython2",
   "version": "2.7.6"
  }
 },
 "nbformat": 4,
 "nbformat_minor": 0
}
